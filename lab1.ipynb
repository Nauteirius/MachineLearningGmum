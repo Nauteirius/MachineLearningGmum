{
 "cells": [
  {
   "cell_type": "code",
   "execution_count": 1,
   "metadata": {},
   "outputs": [
    {
     "name": "stderr",
     "output_type": "stream",
     "text": [
      "d:\\Programy\\Anaconda\\envs\\tf_gpu\\lib\\site-packages\\numpy\\_distributor_init.py:30: UserWarning: loaded more than 1 DLL from .libs:\n",
      "d:\\Programy\\Anaconda\\envs\\tf_gpu\\lib\\site-packages\\numpy\\.libs\\libopenblas.FB5AE2TYXYH2IJRDKGDGQ3XBKLKTF43H.gfortran-win_amd64.dll\n",
      "d:\\Programy\\Anaconda\\envs\\tf_gpu\\lib\\site-packages\\numpy\\.libs\\libopenblas.PYQHXLVVQ7VESDPUVUADXEVJOBGHJPAY.gfortran-win_amd64.dll\n",
      "  warnings.warn(\"loaded more than 1 DLL from .libs:\"\n"
     ]
    }
   ],
   "source": [
    "import numpy as np"
   ]
  },
  {
   "cell_type": "code",
   "execution_count": 2,
   "metadata": {},
   "outputs": [
    {
     "name": "stdout",
     "output_type": "stream",
     "text": [
      "[(9, 3), (3, 6), (9, 6)]\n"
     ]
    }
   ],
   "source": [
    "A = np.random.normal(size=(9,3))\n",
    "B = np.random.normal(size=(3,6))\n",
    "C = A.dot(B)\n",
    "print([m.shape for m in [A, B, C]])\n",
    "assert A.shape != B.shape\n",
    "assert C.shape == (9,6)"
   ]
  },
  {
   "cell_type": "code",
   "execution_count": 3,
   "metadata": {},
   "outputs": [],
   "source": [
    "\n",
    "\n",
    "def sigmoid(x: np.ndarray) -> np.ndarray:\n",
    "    return (1/(1+np.e**(-x)))\n",
    "\n",
    "X = np.random.uniform(low=-10, high=10, size=(1000, 2000))\n",
    "assert sigmoid(X).max() <= 1.\n",
    "assert sigmoid(X).min() >= 0.\n",
    "\n",
    "\n",
    "\n"
   ]
  },
  {
   "cell_type": "code",
   "execution_count": 4,
   "metadata": {},
   "outputs": [
    {
     "name": "stdout",
     "output_type": "stream",
     "text": [
      "85 ms ± 2.74 ms per loop (mean ± std. dev. of 7 runs, 10 loops each)\n"
     ]
    }
   ],
   "source": [
    "%%timeit n=10\n",
    "sigmoid(X)\n",
    "\n"
   ]
  },
  {
   "cell_type": "code",
   "execution_count": 10,
   "metadata": {},
   "outputs": [],
   "source": [
    "def standartise(x: np.ndarray) -> np.ndarray:\n",
    "    u=np.mean(x)\n",
    "    s=np.std(x)\n",
    "\n",
    "    for count,i in enumerate(x):\n",
    "        new=(i-u)/s\n",
    "        x[count]=new\n",
    "\n",
    "    return x\n",
    "\n",
    "\n",
    "\n",
    "X = np.random.uniform(low=-10, high=10, size=(100, 10))\n",
    "\n",
    "for count,a in enumerate(X.T):\n",
    "    a = standartise(a)\n",
    "    #X.T[count]=a\n",
    "    #linijka wyzej jest niepotrzebna z tego powodu, że python kopiuje prymitywy, dla tablic bierze referencje?\n",
    "    \n",
    "\n",
    "X_hat = X\n",
    "\n",
    "assert np.allclose(X_hat.mean(0), 0.)\n",
    "assert np.allclose(X_hat.std(0), 1.)\n",
    "\n"
   ]
  },
  {
   "cell_type": "code",
   "execution_count": 6,
   "metadata": {},
   "outputs": [],
   "source": [
    "\n",
    "\n",
    "\n"
   ]
  },
  {
   "cell_type": "code",
   "execution_count": 7,
   "metadata": {},
   "outputs": [
    {
     "data": {
      "image/png": "[encoded data removed]",
      "text/plain": [
       "<Figure size 432x288 with 1 Axes>"
      ]
     },
     "metadata": {
      "needs_background": "light"
     },
     "output_type": "display_data"
    }
   ],
   "source": [
    "import matplotlib.pyplot as plt\n",
    "\n",
    "X = np.linspace(-10,10)\n",
    "\n",
    "Y = sigmoid(X)\n",
    "\n",
    "plt.plot(Y)\n",
    "plt.show()"
   ]
  }
 ],
 "metadata": {
  "kernelspec": {
   "display_name": "Python 3.8.13 ('tf_gpu')",
   "language": "python",
   "name": "python3"
  },
  "language_info": {
   "codemirror_mode": {
    "name": "ipython",
    "version": 3
   },
   "file_extension": ".py",
   "mimetype": "text/x-python",
   "name": "python",
   "nbconvert_exporter": "python",
   "pygments_lexer": "ipython3",
   "version": "3.8.13"
  },
  "orig_nbformat": 4,
  "vscode": {
   "interpreter": {
    "hash": "8420e14ffc0620a853927d0d4feb4e90de91bae3b0a41c2b35fe66c147e210b9"
   }
  }
 },
 "nbformat": 4,
 "nbformat_minor": 2
}
